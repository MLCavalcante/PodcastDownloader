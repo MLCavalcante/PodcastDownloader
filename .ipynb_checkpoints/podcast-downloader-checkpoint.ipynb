{
 "cells": [
  {
   "cell_type": "code",
   "execution_count": 7,
   "id": "952375c8",
   "metadata": {},
   "outputs": [],
   "source": [
    "import requests\n",
    "import os\n",
    "import re\n",
    "from bs4 import BeautifulSoup\n",
    "import lxml"
   ]
  },
  {
   "cell_type": "code",
   "execution_count": 11,
   "id": "f9c02939",
   "metadata": {},
   "outputs": [],
   "source": [
    "\n",
    "rss_feed_url = \"https://feeds.megaphone.fm/darknetdiaries\"\n",
    "\n",
    "page = requests.get(rss_feed_url)\n",
    "soup = BeautifulSoup(page.content,'xml')"
   ]
  },
  {
   "cell_type": "code",
   "execution_count": 12,
   "id": "3e48355e",
   "metadata": {},
   "outputs": [],
   "source": [
    "podcast_items = soup.find_all('item')"
   ]
  },
  {
   "cell_type": "code",
   "execution_count": 13,
   "id": "69ae0955",
   "metadata": {},
   "outputs": [],
   "source": [
    "count = 0\n",
    "for podcast in podcast_items:\n",
    "    if count == 5:\n",
    "        break\n",
    "        \n",
    "    title = podcast.find('title').text\n",
    "    title = re.sub(r'[^\\w\\s-]', '', title).strip()\n",
    "    title = re.sub(r'[-\\s]+', '-', title)\n",
    "    description = podcast.find('description').text\n",
    "    mp3_url = podcast.find('enclosure')['url']\n",
    "    \n",
    "    if re.search(r'hackers', description, re.I):\n",
    "        mp3_file = requests.get(mp3_url)\n",
    "        with open(f'./downloads/{title}.mp3','wb') as f:\n",
    "            f.write(mp3_file.content)\n",
    "            \n",
    "        count += 1\n",
    "    \n",
    "    \n",
    "    \n",
    "    \n",
    "\n",
    "    \n",
    "    \n",
    "    "
   ]
  },
  {
   "cell_type": "code",
   "execution_count": 14,
   "id": "bf9d13cb",
   "metadata": {},
   "outputs": [],
   "source": [
    "## TRANSCRIBE PODCASTS\n"
   ]
  },
  {
   "cell_type": "code",
   "execution_count": 15,
   "id": "a0daf860",
   "metadata": {},
   "outputs": [],
   "source": [
    "import os"
   ]
  },
  {
   "cell_type": "code",
   "execution_count": 16,
   "id": "e7b8f611",
   "metadata": {},
   "outputs": [],
   "source": [
    "api_key = os.environ['ASSEMBLY_AI_KEY']"
   ]
  },
  {
   "cell_type": "code",
   "execution_count": 17,
   "id": "307fe915",
   "metadata": {},
   "outputs": [],
   "source": [
    "import os\n",
    "import requests\n",
    "\n",
    "def read_file(filename, chunk_size=5242880):\n",
    "    with open(filename, 'rb') as _file:\n",
    "        while True:\n",
    "            data = _file.read(chunk_size)\n",
    "            if not data:\n",
    "                break\n",
    "            yield data"
   ]
  },
  {
   "cell_type": "code",
   "execution_count": 18,
   "id": "6501021b",
   "metadata": {},
   "outputs": [
    {
     "name": "stdout",
     "output_type": "stream",
     "text": [
      "103-Cloud-Hopper.mp3\n",
      "112-Dirty-Coms.mp3\n",
      "123-Newswires.mp3\n",
      "94-Mariposa.mp3\n",
      "98-Zero-Day-Brokers.mp3\n"
     ]
    }
   ],
   "source": [
    "headers = {\n",
    "        \"authorization\": os.environ['ASSEMBLY_AI_KEY'],\n",
    "        \"content-type\": \"application/jason\"\n",
    "}          \n",
    "            \n",
    "file_names = os.listdir('./downloads')\n",
    "upload_urls = []\n",
    "output_ids = []\n",
    "\n",
    "for file in file_names:\n",
    "    file_path = f'./downloads/{file}'\n",
    "    print(file)\n",
    "    \n",
    "    base_url = \"https://api.assemblyai.com/v2\"    \n",
    "    response = requests.post(base_url + \"/upload\",\n",
    "                          headers=headers,\n",
    "                          data=read_file(file_path))\n",
    "                          \n",
    "    upload_url = response.json()[\"upload_url\"]\n",
    "    upload_urls.append(upload_url)\n",
    "    \n",
    "    endpoint = f\"https://api.assemblyai.com/v2/transcript\" \n",
    "    json = {     \n",
    "        \"audio_url\": response.json()['upload_url'],\n",
    "        \"audio_start_from\":300000,\n",
    "         \"audio_end_at\":600000,\n",
    "    }\n",
    "\n",
    "    url = base_url + \"/transcript\"\n",
    "\n",
    "    response = requests.post(endpoint, json=json, headers=headers)\n",
    "    transcript_id = response.json()['id']\n",
    "    output_ids.append(transcript_id)"
   ]
  },
  {
   "cell_type": "code",
   "execution_count": 19,
   "id": "a5b59ae0",
   "metadata": {},
   "outputs": [
    {
     "name": "stdout",
     "output_type": "stream",
     "text": [
      "failed transcript, try again in 3 min...\n",
      "got transcript\n",
      "failed transcript, try again in 3 min...\n",
      "failed transcript, try again in 3 min...\n",
      "got transcript\n",
      "got transcript\n",
      "got transcript\n",
      "got transcript\n"
     ]
    }
   ],
   "source": [
    "import time\n",
    " \n",
    "for transcript_id in output_ids:    \n",
    "    endpoint = f\"https://api.assemblyai.com/v2/transcript/{transcript_id}\"\n",
    "    while True:\n",
    "            response = requests.get(endpoint, headers= headers)\n",
    "            status = response.json()['status']\n",
    "            if status == 'completed':\n",
    "                print(\"got transcript\")\n",
    "                with open(f'./transcripts/{transcript_id}.txt', 'w') as f:\n",
    "                    f.write(response.json()['text'])\n",
    "                break\n",
    "         \n",
    "            \n",
    "            print(\"failed transcript, try again in 3 min...\")\n",
    "            time.sleep(180)      \n",
    "\n",
    "\n",
    "\n"
   ]
  },
  {
   "cell_type": "code",
   "execution_count": null,
   "id": "5f92782b",
   "metadata": {},
   "outputs": [],
   "source": []
  },
  {
   "cell_type": "code",
   "execution_count": null,
   "id": "02875fd2",
   "metadata": {},
   "outputs": [],
   "source": []
  }
 ],
 "metadata": {
  "kernelspec": {
   "display_name": "Python 3 (ipykernel)",
   "language": "python",
   "name": "python3"
  },
  "language_info": {
   "codemirror_mode": {
    "name": "ipython",
    "version": 3
   },
   "file_extension": ".py",
   "mimetype": "text/x-python",
   "name": "python",
   "nbconvert_exporter": "python",
   "pygments_lexer": "ipython3",
   "version": "3.11.3"
  }
 },
 "nbformat": 4,
 "nbformat_minor": 5
}
